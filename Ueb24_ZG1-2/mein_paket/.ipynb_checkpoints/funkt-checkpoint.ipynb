{
 "cells": [
  {
   "cell_type": "code",
   "execution_count": 3,
   "metadata": {},
   "outputs": [],
   "source": [
    "\"\"\"Berechnet den MAD-WERT auf Bais der Parameter \n",
    "syst [mmHg] und diast [mmHg]. \n",
    ":param syst: systloischer Blutdruckwert in mmHg\n",
    ":param diast: diastloischer Blutdruckwert in mmHg\n",
    "Beispiel: \n",
    ">>> mad_berechnen(130,80)\n",
    "105\"\"\"\n",
    "def mad_berechnen(syst,diast):\n",
    "    mad=diast+(0.5*(syst-diast)) #Berechnung MAD\n",
    "    return int(round(mad,0))    # Runden auf ganze Zahlen"
   ]
  },
  {
   "cell_type": "code",
   "execution_count": null,
   "metadata": {},
   "outputs": [],
   "source": []
  }
 ],
 "metadata": {
  "kernelspec": {
   "display_name": "Python 3",
   "language": "python",
   "name": "python3"
  },
  "language_info": {
   "codemirror_mode": {
    "name": "ipython",
    "version": 3
   },
   "file_extension": ".py",
   "mimetype": "text/x-python",
   "name": "python",
   "nbconvert_exporter": "python",
   "pygments_lexer": "ipython3",
   "version": "3.8.3"
  }
 },
 "nbformat": 4,
 "nbformat_minor": 4
}
